{
 "cells": [
  {
   "cell_type": "code",
   "execution_count": 1,
   "id": "fc9632b5",
   "metadata": {},
   "outputs": [],
   "source": [
    "import sys\n",
    "sys.path.insert(0, '..')\n",
    "\n",
    "import chinacolor as ctc\n",
    "from chinacolor.colorparse import to_hex, validate_colors\n",
    "%config InlineBackend.figure_format = \"retina\"\n",
    "ctc.set_default_font_to_packaged()\n"
   ]
  },
  {
   "cell_type": "markdown",
   "id": "f0dbebf9",
   "metadata": {},
   "source": [
    "# Interactive browse (HTML generation)\n",
    "Generate minimal HTML pages to browse colors and palettes."
   ]
  },
  {
   "cell_type": "code",
   "execution_count": 2,
   "id": "d94b36c1",
   "metadata": {},
   "outputs": [
    {
     "data": {
      "text/plain": [
       "PosixPath('site/index.html')"
      ]
     },
     "execution_count": 2,
     "metadata": {},
     "output_type": "execute_result"
    }
   ],
   "source": [
    "ctc.generate_site(output_dir='site')"
   ]
  },
  {
   "cell_type": "markdown",
   "id": "ea362dbc",
   "metadata": {},
   "source": [
    "# Color string parsing\n",
    "Supported: HEX, named colors, rgb()/rgba(), hsv(), hsl(), hcl() (approx or via colorspacious)."
   ]
  },
  {
   "cell_type": "code",
   "execution_count": 3,
   "id": "e63ed4fe",
   "metadata": {},
   "outputs": [
    {
     "name": "stdout",
     "output_type": "stream",
     "text": [
      "#FF0000\n",
      "#FF8000\n",
      "#6699CC\n",
      "#FF00FF\n",
      "['#FF0000', '#00FFFF', '#FF0000']\n"
     ]
    }
   ],
   "source": [
    "print(to_hex('red'))\n",
    "print(to_hex('rgb(255,128,0)'))\n",
    "print(to_hex('hsv(210,0.5,0.8)'))\n",
    "print(to_hex('hsl(300,1,0.5)'))\n",
    "print(validate_colors(['#F00','cyan','rgba(255,0,0,0.5)']))"
   ]
  },
  {
   "cell_type": "code",
   "execution_count": null,
   "id": "5ef8f617-ec0d-408c-806b-d3fae9dcefc2",
   "metadata": {},
   "outputs": [],
   "source": []
  }
 ],
 "metadata": {
  "kernelspec": {
   "display_name": "OMICVERSE",
   "language": "python",
   "name": "omicverse"
  },
  "language_info": {
   "codemirror_mode": {
    "name": "ipython",
    "version": 3
   },
   "file_extension": ".py",
   "mimetype": "text/x-python",
   "name": "python",
   "nbconvert_exporter": "python",
   "pygments_lexer": "ipython3",
   "version": "3.12.3"
  }
 },
 "nbformat": 4,
 "nbformat_minor": 5
}
